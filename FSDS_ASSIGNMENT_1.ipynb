{
 "cells": [
  {
   "cell_type": "code",
   "execution_count": null,
   "id": "afc73d6e",
   "metadata": {},
   "outputs": [],
   "source": [
    "1. In the below elements which of them are values or an expression? eg:- values can be\n",
    "integer or string and expressions will be mathematical operators.\n",
    "*\n",
    "'hello'\n",
    "-87.8\n",
    "-\n",
    "/\n",
    "+\n",
    "6"
   ]
  },
  {
   "cell_type": "code",
   "execution_count": 36,
   "id": "fd0da30a",
   "metadata": {},
   "outputs": [
    {
     "name": "stdout",
     "output_type": "stream",
     "text": [
      "The input List is : ['*', 'hello', 87.8, '-', '/', '+', 6]\n",
      "values in the given List are : ['hello', 87.8, 6]\n",
      "Expressions in the given List are ['*', '-', '/', '+']\n"
     ]
    }
   ],
   "source": [
    "l=[\"*\",\"hello\",87.8,\"-\",\"/\",\"+\",6]\n",
    "l1=[]\n",
    "l2=[\"+\",\"-\",\"*\",\"/\"]\n",
    "l3=[]\n",
    "print('The input List is :',l)\n",
    "for i in l :\n",
    "    if type(i)==int or type(i)==float or (type(i)==str and i not in l2):\n",
    "        l1.append(i)\n",
    "    else :\n",
    "        l3.append(i)\n",
    "print('values in the given List are :',l1)\n",
    "print('Expressions in the given List are',l3)"
   ]
  },
  {
   "cell_type": "code",
   "execution_count": null,
   "id": "4de9f088",
   "metadata": {},
   "outputs": [],
   "source": [
    "2.  What is the difference between string and variable?"
   ]
  },
  {
   "cell_type": "code",
   "execution_count": null,
   "id": "ff5973f3",
   "metadata": {},
   "outputs": [],
   "source": [
    "String\n",
    "\n",
    "String is an build in data type in Python which is basically a sequence of unicode characters which includes numbers, \n",
    "spaces, punctuation, and even line breaksand can be assigned to variable using single or double Quotes.Strings are also \n",
    "immutable like tuples and items can be extracted using slicing operators [].\n",
    "\n",
    "\n",
    "Variable\n",
    "\n",
    "Variable is basically an containers/bucket to store a value in a memory location and to manipulate it if needed in furure.\n",
    "Some Characteristics for Python Variable is given below :: \n",
    "a. Python has no command for declaring a variable, it gets created once we assign value to it.\n",
    "b. Python does not need a varaible to be decalred as a specific data type , it convets it according to the value we are \n",
    "    pushing in it.\n",
    "c.  We can get the data type of a variable with the type() function\n",
    "d. Variable Names in Python are case sensitive.\n",
    "e. Variable name cannot start with a number, it can only contain alpha-numeric characters and underscores (A-z, 0-9, and _ )\n",
    "\n"
   ]
  },
  {
   "cell_type": "code",
   "execution_count": null,
   "id": "019052d2",
   "metadata": {},
   "outputs": [],
   "source": [
    "3. Describe three different data types."
   ]
  },
  {
   "cell_type": "code",
   "execution_count": null,
   "id": "a50b6eb5",
   "metadata": {},
   "outputs": [],
   "source": [
    "Python Dictionary\n",
    "\n",
    "Dictionary is a type of python data type in which data collections are unordered, and values are in pairs called key-value \n",
    "pairs. This type of data type is useful when there is a high volume of data. One of the best functions of Dictionaries data\n",
    "type is retrieving the data for which it is optimized. The value can only be retrieved with help of key. Braces {} are used \n",
    "to define dictionaries data type in Python.The value and the key can be of any data type.\n",
    "\n",
    "Python Dictionary can look like this:\n",
    "\n",
    " d = {3:’key’,4:’value’}\n",
    "\n",
    "\n",
    "Python Tuple\n",
    "\n",
    "A Tuple is a sequence of items that are in order, and it is not possible to modify the Tuples. The main difference list and\n",
    "tuples are that tuple is immutable, which means it cannot be altered. Tuples are generally faster than the list data type \n",
    "in Python because it cannot be changed or modified like list datatype. The primary use of Tuples is to write-protect data. \n",
    "Tuples can be represented by using parentheses (), and commas are used to separate the items. \n",
    "\n",
    "Tuples can look like this:\n",
    "\n",
    " t = (6,’tuple’,4+2r)\n",
    "\n",
    "In the case of a tuple, one can use the slicing operator to extract the item, but it will not allow changing the value. \n",
    "\n",
    "\n",
    "Floating Point Number:\n",
    "    \n",
    "The difference between floating points and integers is decimal points. Floating point number can be represented as 1.0, \n",
    "and integer can be represented as 1. It is accurate up to 15 decimal places.\n"
   ]
  },
  {
   "cell_type": "code",
   "execution_count": null,
   "id": "ed803030",
   "metadata": {},
   "outputs": [],
   "source": [
    "4. What is an expression made up of? What do all expressions do?"
   ]
  },
  {
   "cell_type": "code",
   "execution_count": null,
   "id": "1a76ab8d",
   "metadata": {},
   "outputs": [],
   "source": [
    "An expression is a combination of values, variables, operators, and calls to functions. Expressions need to be evaluated. \n",
    "If we ask Python to print an expression, the interpreter evaluates the expression and displays the result."
   ]
  },
  {
   "cell_type": "code",
   "execution_count": null,
   "id": "8d334cfc",
   "metadata": {},
   "outputs": [],
   "source": [
    "5. This assignment statements, like spam = 10. What is the difference between an\n",
    "    expression and a statement?"
   ]
  },
  {
   "cell_type": "code",
   "execution_count": null,
   "id": "23eef6a8",
   "metadata": {},
   "outputs": [],
   "source": [
    "The assignment statement spam=10 is simply assigning integer 10 value to the the varaibale \"spam\"\n",
    "\n",
    "A statement is an instruction that Python interpreter can execute but am Expression is a combination of values variables and \n",
    "Operators.\n"
   ]
  },
  {
   "cell_type": "code",
   "execution_count": null,
   "id": "c8137c7b",
   "metadata": {},
   "outputs": [],
   "source": [
    "6. After running the following code, what does the variable bacon contain?\n",
    "bacon = 22\n",
    "bacon + 1"
   ]
  },
  {
   "cell_type": "code",
   "execution_count": 1,
   "id": "4c45c89d",
   "metadata": {},
   "outputs": [
    {
     "data": {
      "text/plain": [
       "23"
      ]
     },
     "execution_count": 1,
     "metadata": {},
     "output_type": "execute_result"
    }
   ],
   "source": [
    "bacon=22\n",
    "bacon+1"
   ]
  },
  {
   "cell_type": "code",
   "execution_count": null,
   "id": "0ebc2c81",
   "metadata": {},
   "outputs": [],
   "source": [
    "7. What should the values of the following two terms be?\n",
    "'spam' + 'spamspam'\n",
    "'spam' * 3"
   ]
  },
  {
   "cell_type": "code",
   "execution_count": 3,
   "id": "82556eb7",
   "metadata": {},
   "outputs": [
    {
     "data": {
      "text/plain": [
       "'spamspamspam'"
      ]
     },
     "execution_count": 3,
     "metadata": {},
     "output_type": "execute_result"
    }
   ],
   "source": [
    "'spam' + 'spamspam'"
   ]
  },
  {
   "cell_type": "code",
   "execution_count": 4,
   "id": "d639c60f",
   "metadata": {},
   "outputs": [
    {
     "data": {
      "text/plain": [
       "'spamspamspam'"
      ]
     },
     "execution_count": 4,
     "metadata": {},
     "output_type": "execute_result"
    }
   ],
   "source": [
    "'spam' * 3"
   ]
  },
  {
   "cell_type": "code",
   "execution_count": null,
   "id": "c1ec4461",
   "metadata": {},
   "outputs": [],
   "source": [
    "8. Why is eggs a valid variable name while 100 is invalid?"
   ]
  },
  {
   "cell_type": "code",
   "execution_count": null,
   "id": "5d51da78",
   "metadata": {},
   "outputs": [],
   "source": [
    "As per the Python guidelines a Variable name cannot start with a number, it can only contain alpha-numeric characters and \n",
    "underscores (A-z, 0-9, and _ ). So varable name \"eggs\" is valid and 100 is invalid in python."
   ]
  },
  {
   "cell_type": "code",
   "execution_count": null,
   "id": "ff075319",
   "metadata": {},
   "outputs": [],
   "source": [
    "9. What three functions can be used to get the integer, floating-point number, or string\n",
    "version of a value?"
   ]
  },
  {
   "cell_type": "code",
   "execution_count": null,
   "id": "d6905a10",
   "metadata": {},
   "outputs": [],
   "source": [
    "In Python int(),float() and str() will evaluate to the integer, floating-point number, and string versions of the value \n",
    "passed to them"
   ]
  },
  {
   "cell_type": "code",
   "execution_count": null,
   "id": "1502f5a4",
   "metadata": {},
   "outputs": [],
   "source": [
    "10. Why does this expression cause an error? How can you fix it?\n",
    "'I have eaten ' + 99 + ' burritos.'"
   ]
  },
  {
   "cell_type": "code",
   "execution_count": null,
   "id": "a298d776",
   "metadata": {},
   "outputs": [],
   "source": [
    "In Python We can only concatenate string values to string only but in out case we are trying to concatenate an integer 99 \n",
    "with the string so the expression is failing.\n",
    "\n",
    "We can correct it by typecasting the interger value to a string as given below:"
   ]
  },
  {
   "cell_type": "code",
   "execution_count": 6,
   "id": "2ca0ccc8",
   "metadata": {},
   "outputs": [
    {
     "data": {
      "text/plain": [
       "'I have eaten 99 burritos.'"
      ]
     },
     "execution_count": 6,
     "metadata": {},
     "output_type": "execute_result"
    }
   ],
   "source": [
    "'I have eaten ' + str(99) + ' burritos.'"
   ]
  }
 ],
 "metadata": {
  "kernelspec": {
   "display_name": "Python 3 (ipykernel)",
   "language": "python",
   "name": "python3"
  },
  "language_info": {
   "codemirror_mode": {
    "name": "ipython",
    "version": 3
   },
   "file_extension": ".py",
   "mimetype": "text/x-python",
   "name": "python",
   "nbconvert_exporter": "python",
   "pygments_lexer": "ipython3",
   "version": "3.9.7"
  }
 },
 "nbformat": 4,
 "nbformat_minor": 5
}
