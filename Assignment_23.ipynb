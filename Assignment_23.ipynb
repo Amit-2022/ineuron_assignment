{
 "cells": [
  {
   "cell_type": "markdown",
   "id": "d66a051c",
   "metadata": {},
   "source": [
    "# 1. What is the result of the code, and why?\n",
    ">>> def func(a, b=6, c=8):\n",
    "print(a, b, c)\n",
    ">>> func(1, 2)\n"
   ]
  },
  {
   "cell_type": "code",
   "execution_count": 1,
   "id": "9e5daefc",
   "metadata": {},
   "outputs": [
    {
     "name": "stdout",
     "output_type": "stream",
     "text": [
      "1 2 8\n"
     ]
    }
   ],
   "source": [
    "def func(a, b=6, c=8): \n",
    "    print(a, b, c) \n",
    "\n",
    "func(1, 2)"
   ]
  },
  {
   "cell_type": "code",
   "execution_count": null,
   "id": "b54de2bb",
   "metadata": {},
   "outputs": [],
   "source": [
    "Here as we have hardcoded and sent 2 values therefore preference is given to the input user gives. so a=1,b=2,c as by \n",
    "default argument 8."
   ]
  },
  {
   "cell_type": "markdown",
   "id": "8fa5004e",
   "metadata": {},
   "source": [
    "# 2. What is the result of this code, and why?\n",
    ">>> def func(a, b, c=5):\n",
    "print(a, b, c)\n",
    ">>> func(1, c=3, b=2)\n"
   ]
  },
  {
   "cell_type": "code",
   "execution_count": 2,
   "id": "a3404415",
   "metadata": {},
   "outputs": [
    {
     "name": "stdout",
     "output_type": "stream",
     "text": [
      "1 2 3\n"
     ]
    }
   ],
   "source": [
    "def func(a, b, c=5): \n",
    "    print(a, b, c) \n",
    "\n",
    "func(1, c=3, b=2)"
   ]
  },
  {
   "cell_type": "markdown",
   "id": "73261a21",
   "metadata": {},
   "source": [
    "# 3. How about this code: what is its result, and why?\n",
    ">>> def func(a, *pargs):\n",
    "print(a, pargs)\n",
    ">>> func(1, 2, 3)\n"
   ]
  },
  {
   "cell_type": "code",
   "execution_count": 3,
   "id": "5594f54a",
   "metadata": {},
   "outputs": [
    {
     "name": "stdout",
     "output_type": "stream",
     "text": [
      "1 (2, 3)\n"
     ]
    }
   ],
   "source": [
    "def func(a, *pargs): \n",
    "    print(a, pargs) \n",
    "func(1, 2, 3)"
   ]
  },
  {
   "cell_type": "code",
   "execution_count": null,
   "id": "09dbfd6d",
   "metadata": {},
   "outputs": [],
   "source": [
    "Here a=1. *pargs returns as many argument user gives as input in form of tuples"
   ]
  },
  {
   "cell_type": "markdown",
   "id": "a5b7b77b",
   "metadata": {},
   "source": [
    "# 4. What does this code print, and why?\n",
    ">>> def func(a, **kargs):\n",
    "print(a, kargs)\n",
    ">>> func(a=1, c=3, b=2)"
   ]
  },
  {
   "cell_type": "code",
   "execution_count": 4,
   "id": "73e1a2b0",
   "metadata": {},
   "outputs": [
    {
     "name": "stdout",
     "output_type": "stream",
     "text": [
      "1 {'c': 3, 'b': 2}\n"
     ]
    }
   ],
   "source": [
    "def func(a, **kargs): \n",
    "    print(a, kargs) \n",
    "\n",
    "func(a=1, c=3, b=2)"
   ]
  },
  {
   "cell_type": "code",
   "execution_count": null,
   "id": "fe612079",
   "metadata": {},
   "outputs": [],
   "source": [
    "Here a=1. **kargs returns as many argument user gives as input in form of dictionary"
   ]
  },
  {
   "cell_type": "markdown",
   "id": "c63abba2",
   "metadata": {},
   "source": [
    "# 5. What gets printed by this, and explain?\n",
    ">>> def func(a, b, c=8, d=5): print(a, b, c, d)\n",
    ">>> func(1, *(5, 6))\n"
   ]
  },
  {
   "cell_type": "code",
   "execution_count": 5,
   "id": "d9f80839",
   "metadata": {},
   "outputs": [
    {
     "name": "stdout",
     "output_type": "stream",
     "text": [
      "1 5 6 5\n"
     ]
    }
   ],
   "source": [
    "def func(a, b, c=8, d=5): \n",
    "    print(a, b, c, d) \n",
    "\n",
    "func(1, *(5, 6))"
   ]
  },
  {
   "cell_type": "code",
   "execution_count": null,
   "id": "9d571f42",
   "metadata": {},
   "outputs": [],
   "source": [
    "Here a=1. User input is given in the form of kargs. So as many variable is present that many times the value passed as \n",
    "kargs input will get printed.So here a=1,b=5,c=6,d=again 5."
   ]
  },
  {
   "cell_type": "markdown",
   "id": "6e2d9797",
   "metadata": {},
   "source": [
    "# 6. what is the result of this, and explain?\n",
    ">>> def func(a, b, c): a = 2; b[0] = 'x'; c['a'] = 'y'\n",
    ">>> l=1; m=[1]; n={'a':0}\n",
    ">>> func(l, m, n)\n",
    ">>> l, m, n\n"
   ]
  },
  {
   "cell_type": "code",
   "execution_count": 7,
   "id": "c63a2e47",
   "metadata": {},
   "outputs": [],
   "source": [
    "def func(a, b, c): \n",
    "    a = 2; \n",
    "    b[0] = 'x'; \n",
    "    c['a'] = 'y'"
   ]
  },
  {
   "cell_type": "code",
   "execution_count": 10,
   "id": "25a0a24e",
   "metadata": {},
   "outputs": [],
   "source": [
    "l=1; \n",
    "m=[1]; \n",
    "n={'a':0} \n",
    "\n",
    "func(l, m, n)"
   ]
  },
  {
   "cell_type": "code",
   "execution_count": 11,
   "id": "a8b8abf3",
   "metadata": {},
   "outputs": [
    {
     "data": {
      "text/plain": [
       "(1, ['x'], {'a': 'y'})"
      ]
     },
     "execution_count": 11,
     "metadata": {},
     "output_type": "execute_result"
    }
   ],
   "source": [
    " l, m, n"
   ]
  },
  {
   "cell_type": "code",
   "execution_count": null,
   "id": "50f5a2ce",
   "metadata": {},
   "outputs": [],
   "source": [
    "Here in func(l,m,n) we passed l=1(user input), m is passed as list contain 1 element i.e 'x', n is passed as dictionary \n",
    "i.e {'a':'y'}"
   ]
  }
 ],
 "metadata": {
  "kernelspec": {
   "display_name": "Python 3 (ipykernel)",
   "language": "python",
   "name": "python3"
  },
  "language_info": {
   "codemirror_mode": {
    "name": "ipython",
    "version": 3
   },
   "file_extension": ".py",
   "mimetype": "text/x-python",
   "name": "python",
   "nbconvert_exporter": "python",
   "pygments_lexer": "ipython3",
   "version": "3.9.7"
  }
 },
 "nbformat": 4,
 "nbformat_minor": 5
}
