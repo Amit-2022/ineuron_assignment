{
 "cells": [
  {
   "cell_type": "markdown",
   "id": "b48cd2ee",
   "metadata": {},
   "source": [
    "# 1. What is the result of the code, and explain?\n",
    "\n",
    "\n",
    ">>> X = 'iNeuron'\n",
    ">>> def func():\n",
    "print(X)\n",
    "\n",
    "\n",
    ">>> func()\n",
    "\n"
   ]
  },
  {
   "cell_type": "code",
   "execution_count": 2,
   "id": "bdb0b850",
   "metadata": {},
   "outputs": [],
   "source": [
    "X = 'iNeuron' \n",
    "def func(): \n",
    "    print(X)"
   ]
  },
  {
   "cell_type": "code",
   "execution_count": 3,
   "id": "3cbf77bf",
   "metadata": {},
   "outputs": [
    {
     "name": "stdout",
     "output_type": "stream",
     "text": [
      "iNeuron\n"
     ]
    }
   ],
   "source": [
    "func()"
   ]
  },
  {
   "cell_type": "code",
   "execution_count": null,
   "id": "5d64d7ad",
   "metadata": {},
   "outputs": [],
   "source": [
    "Here when func() is called it will execute the statement written inside it which print the value of x whose value is \n",
    "assigned as 'iNeuron'."
   ]
  },
  {
   "cell_type": "markdown",
   "id": "4b96ee7f",
   "metadata": {},
   "source": [
    "# 2. What is the result of the code, and explain?\n",
    "\n",
    "\n",
    ">>> X = 'iNeuron'\n",
    ">>> def func():\n",
    "X = 'NI!'\n",
    "\n",
    "\n",
    ">>> func()\n",
    ">>> print(X)\n"
   ]
  },
  {
   "cell_type": "code",
   "execution_count": 5,
   "id": "ce72e89c",
   "metadata": {},
   "outputs": [
    {
     "name": "stdout",
     "output_type": "stream",
     "text": [
      "iNeuron\n"
     ]
    }
   ],
   "source": [
    "X = 'iNeuron' \n",
    "def func(): \n",
    "    X = 'NI!'\n",
    "\n",
    "func() \n",
    "print(X)"
   ]
  },
  {
   "cell_type": "code",
   "execution_count": null,
   "id": "d1e6710e",
   "metadata": {},
   "outputs": [],
   "source": [
    "Here when func() is called it will execute the statement written inside it which only initialize value of x='NI' but it \n",
    "doesnot return anything(None).So it comes out of the block and doesnot print anything. Again when print(x) is executed it \n",
    "prints the value of X = 'iNeuron'."
   ]
  },
  {
   "cell_type": "markdown",
   "id": "66a1700e",
   "metadata": {},
   "source": [
    "# 3. What does this code print, and why?\n",
    "\n",
    "\n",
    ">>> X = 'iNeuron'\n",
    ">>> def func():\n",
    "X = 'NI'\n",
    "print(X)\n",
    "\n",
    "\n",
    ">>> func()\n",
    ">>> print(X)\n"
   ]
  },
  {
   "cell_type": "code",
   "execution_count": 6,
   "id": "68e17582",
   "metadata": {},
   "outputs": [
    {
     "name": "stdout",
     "output_type": "stream",
     "text": [
      "NI\n",
      "iNeuron\n"
     ]
    }
   ],
   "source": [
    "X = 'iNeuron' \n",
    "def func(): \n",
    "    X = 'NI' \n",
    "    print(X)\n",
    "func() \n",
    "print(X)"
   ]
  },
  {
   "cell_type": "code",
   "execution_count": null,
   "id": "54090d51",
   "metadata": {},
   "outputs": [],
   "source": [
    "Here when func() is called it will execute the statement written inside it which initialize value of x='NI' and subsequently\n",
    "print the value of X.The scope of X = 'NI'is within the block func(). But when a print statement i.e print(X) is executed \n",
    "it prints x value as iNeuron.(X is treated as global variable)"
   ]
  },
  {
   "cell_type": "markdown",
   "id": "4b275cd0",
   "metadata": {},
   "source": [
    "# 4. What output does this code produce? Why?\n",
    "\n",
    "\n",
    ">>> X = 'iNeuron'\n",
    ">>> def func():\n",
    "global X\n",
    "X = 'NI'\n",
    "\n",
    "\n",
    ">>> func()\n",
    ">>> print(X)\n"
   ]
  },
  {
   "cell_type": "code",
   "execution_count": 7,
   "id": "c9777232",
   "metadata": {},
   "outputs": [
    {
     "name": "stdout",
     "output_type": "stream",
     "text": [
      "NI\n"
     ]
    }
   ],
   "source": [
    "X = 'iNeuron' \n",
    "def func(): \n",
    "    global X \n",
    "    X = 'NI'\n",
    "func() \n",
    "print(X)"
   ]
  },
  {
   "cell_type": "code",
   "execution_count": null,
   "id": "9d578803",
   "metadata": {},
   "outputs": [],
   "source": [
    "Here in func() we have declared X as global variable hence it's previous value i.e 'iNeuron' is overrided and when print(x)\n",
    "is executed it prints latest updated value i.e 'NI'."
   ]
  },
  {
   "cell_type": "markdown",
   "id": "8d31af72",
   "metadata": {},
   "source": [
    "# 5. What about this code—what’s the output, and why?\n",
    "\n",
    "\n",
    ">>> X = 'iNeuron'\n",
    ">>> def func():\n",
    "X = 'NI'\n",
    "def nested():\n",
    "print(X)\n",
    "nested()\n",
    "\n",
    "\n",
    ">>> func()\n",
    ">>> X\n"
   ]
  },
  {
   "cell_type": "code",
   "execution_count": 8,
   "id": "d4356ed3",
   "metadata": {},
   "outputs": [
    {
     "data": {
      "text/plain": [
       "'iNeuron'"
      ]
     },
     "execution_count": 8,
     "metadata": {},
     "output_type": "execute_result"
    }
   ],
   "source": [
    "X = 'iNeuron' \n",
    "def func(): \n",
    "    X = 'NI' \n",
    "    def nested(): \n",
    "        print(X) \n",
    "        nested()\n",
    "func() \n",
    "X"
   ]
  },
  {
   "cell_type": "code",
   "execution_count": null,
   "id": "99c19580",
   "metadata": {},
   "outputs": [],
   "source": [
    "Here when nested() is called it prints X = 'iNeuron'(Global variable). In func(), X = 'NI' the scope of X is within func() \n",
    "as it is a local variable."
   ]
  },
  {
   "cell_type": "markdown",
   "id": "339d6c92",
   "metadata": {},
   "source": [
    "# 6. How about this code: what is its output in Python 3, and explain?\n",
    "\n",
    "\n",
    ">>> def func():\n",
    "X = 'NI'\n",
    "def nested():\n",
    "nonlocal X\n",
    "X = 'Spam'\n",
    "nested()\n",
    "print(X)\n",
    "\n",
    "\n",
    ">>> func()\n"
   ]
  },
  {
   "cell_type": "code",
   "execution_count": 9,
   "id": "e68026d3",
   "metadata": {},
   "outputs": [],
   "source": [
    "def func(): \n",
    "    X = 'NI' \n",
    "    def nested(): \n",
    "        nonlocal X \n",
    "        X = 'Spam' \n",
    "        nested() \n",
    "        print(X)\n",
    "\n",
    "func()"
   ]
  },
  {
   "cell_type": "code",
   "execution_count": null,
   "id": "dabf2e08",
   "metadata": {},
   "outputs": [],
   "source": [
    "A variable if we want to access outside the block as well as within the block should be declared as global."
   ]
  }
 ],
 "metadata": {
  "kernelspec": {
   "display_name": "Python 3 (ipykernel)",
   "language": "python",
   "name": "python3"
  },
  "language_info": {
   "codemirror_mode": {
    "name": "ipython",
    "version": 3
   },
   "file_extension": ".py",
   "mimetype": "text/x-python",
   "name": "python",
   "nbconvert_exporter": "python",
   "pygments_lexer": "ipython3",
   "version": "3.9.7"
  }
 },
 "nbformat": 4,
 "nbformat_minor": 5
}
