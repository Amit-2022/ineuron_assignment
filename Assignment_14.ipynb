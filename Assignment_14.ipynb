{
 "cells": [
  {
   "cell_type": "code",
   "execution_count": null,
   "id": "0582b718",
   "metadata": {},
   "outputs": [],
   "source": [
    "1. What does RGBA stand for?"
   ]
  },
  {
   "cell_type": "code",
   "execution_count": null,
   "id": "e79cc476",
   "metadata": {},
   "outputs": [],
   "source": [
    "An RGBA value is a tuple of 4 integers, each ranging from 0 to 255. The four integers correspond to the amount of red, \n",
    "green, blue, and alpha (transparency) in the color."
   ]
  },
  {
   "cell_type": "code",
   "execution_count": null,
   "id": "beaa420f",
   "metadata": {},
   "outputs": [],
   "source": [
    "2. From the Pillow module, how do you get the RGBA value of any images?"
   ]
  },
  {
   "cell_type": "code",
   "execution_count": null,
   "id": "ec74aac3",
   "metadata": {},
   "outputs": [],
   "source": [
    "A function call to ImageColor.getcolor('CornflowerBlue', 'RGBA') will return (100, 149, 237, 255), the RGBA value for that\n",
    "color."
   ]
  },
  {
   "cell_type": "code",
   "execution_count": null,
   "id": "733e85e9",
   "metadata": {},
   "outputs": [],
   "source": [
    "3. What is a box tuple, and how does it work?"
   ]
  },
  {
   "cell_type": "code",
   "execution_count": null,
   "id": "8a44012a",
   "metadata": {},
   "outputs": [],
   "source": [
    "A box tuple is a tuple value of four integers: the left edge x-coordinate, the top edge y-coordinate, the width, and the \n",
    "height, respectively."
   ]
  },
  {
   "cell_type": "code",
   "execution_count": null,
   "id": "fd409bd9",
   "metadata": {},
   "outputs": [],
   "source": [
    "4. Use your image and load in notebook then, How can you find out the width and height of an Image object?"
   ]
  },
  {
   "cell_type": "code",
   "execution_count": 1,
   "id": "0d4c587d",
   "metadata": {},
   "outputs": [
    {
     "name": "stdout",
     "output_type": "stream",
     "text": [
      "400x533\n"
     ]
    }
   ],
   "source": [
    "import PIL\n",
    "from PIL import Image\n",
    "img = PIL.Image.open(\"test.jpg\")\n",
    "wid, hgt = img.size\n",
    "print(str(wid) + \"x\" + str(hgt))"
   ]
  },
  {
   "cell_type": "code",
   "execution_count": null,
   "id": "1cacae4d",
   "metadata": {},
   "outputs": [],
   "source": [
    "5. What method would you call to get Image object for a 100×100 image, excluding the lower-left quarter of it?"
   ]
  },
  {
   "cell_type": "code",
   "execution_count": null,
   "id": "1f0fd7e2",
   "metadata": {},
   "outputs": [],
   "source": [
    "Call the imageObj.save('new_filename.png') method of the Image object."
   ]
  },
  {
   "cell_type": "code",
   "execution_count": null,
   "id": "831937cb",
   "metadata": {},
   "outputs": [],
   "source": [
    "6. After making changes to an Image object, how could you save it as an image file?"
   ]
  },
  {
   "cell_type": "code",
   "execution_count": null,
   "id": "d94503b4",
   "metadata": {},
   "outputs": [],
   "source": [
    "The ImageDraw module contains code to draw on image."
   ]
  },
  {
   "cell_type": "code",
   "execution_count": null,
   "id": "223db1fc",
   "metadata": {},
   "outputs": [],
   "source": [
    "7. What module contains Pillow’s shape-drawing code?"
   ]
  },
  {
   "cell_type": "code",
   "execution_count": null,
   "id": "ffb850a8",
   "metadata": {},
   "outputs": [],
   "source": [
    "ImageDraw objects have shape-drawing methods such as point(), line(), or rectangle(). They are returned by passing the \n",
    "Image object to the ImageDraw.Draw() function."
   ]
  },
  {
   "cell_type": "code",
   "execution_count": null,
   "id": "0893ace4",
   "metadata": {},
   "outputs": [],
   "source": [
    "8. Image objects do not have drawing methods. What kind of object does? How do you get this kind of object?"
   ]
  },
  {
   "cell_type": "code",
   "execution_count": null,
   "id": "c58837f1",
   "metadata": {},
   "outputs": [],
   "source": [
    "The ImageDraw module provides simple 2D graphics for Image objects. You can use this module to create new images, annotate \n",
    "or retouch existing images, and to generate graphics on the fly for web use. "
   ]
  }
 ],
 "metadata": {
  "kernelspec": {
   "display_name": "Python 3 (ipykernel)",
   "language": "python",
   "name": "python3"
  },
  "language_info": {
   "codemirror_mode": {
    "name": "ipython",
    "version": 3
   },
   "file_extension": ".py",
   "mimetype": "text/x-python",
   "name": "python",
   "nbconvert_exporter": "python",
   "pygments_lexer": "ipython3",
   "version": "3.9.7"
  }
 },
 "nbformat": 4,
 "nbformat_minor": 5
}
