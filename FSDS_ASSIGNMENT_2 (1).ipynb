{
 "cells": [
  {
   "cell_type": "code",
   "execution_count": null,
   "id": "f56a3acb",
   "metadata": {},
   "outputs": [],
   "source": [
    "1.What are the two values of the Boolean data type? How do you write them?"
   ]
  },
  {
   "cell_type": "code",
   "execution_count": null,
   "id": "4feb1724",
   "metadata": {},
   "outputs": [],
   "source": [
    "Python boolean type is one of the built-in data types provided by Python, which represents one of the two values i.e. True \n",
    "or False. Generally, it is used to represent the truth values of the expressions. For example, 1== 0 is True whereas 2<1 is\n",
    "False.\n",
    "\n",
    "Example: Boolean type\n",
    "    a = True\n",
    "    b = False"
   ]
  },
  {
   "cell_type": "code",
   "execution_count": null,
   "id": "eae72d46",
   "metadata": {},
   "outputs": [],
   "source": [
    "2. What are the three different types of Boolean operators?"
   ]
  },
  {
   "cell_type": "code",
   "execution_count": null,
   "id": "8f7bcad9",
   "metadata": {},
   "outputs": [],
   "source": [
    "Boolean Operations are simple arithmetic of True and False values. These values can be manipulated by the use of boolean \n",
    "operators which include and, or, and not.\n",
    "\n",
    "The Boolean or operator returns True if any one of the inputs is True else returns False.\n",
    "The Boolean and operator returns False if any one of the inputs is False else returns True.\n",
    "The Boolean not operator only require one argument and returns the negatation of the argument i.e. returns the True for \n",
    "False and False for True."
   ]
  },
  {
   "cell_type": "code",
   "execution_count": null,
   "id": "3f62a3ed",
   "metadata": {},
   "outputs": [],
   "source": [
    "3. Make a list of each Boolean operator's \n",
    "truth tables (i.e. every possible combination of Boolean values for the operator and what it evaluate )."
   ]
  },
  {
   "cell_type": "code",
   "execution_count": null,
   "id": "9ed3e78e",
   "metadata": {},
   "outputs": [],
   "source": [
    "Boolean OR Operator\n",
    "\n",
    "A\t     B\t    A or B\n",
    "True\tTrue\tTrue\n",
    "True\tFalse\tTrue\n",
    "False\tTrue\tTrue\n",
    "False\tFalse\tFalse\n",
    "\n",
    "\n",
    "Boolean And Operator\n",
    "\n",
    "A\t     B\t    A and B\n",
    "True\tTrue\tTrue\n",
    "True\tFalse\tFalse\n",
    "False\tTrue\tFalse\n",
    "False\tFalse\tFalse\n",
    "\n",
    "\n",
    "Boolean Not Operator\n",
    "\n",
    "A\t    Not A\n",
    "True\tFalse\n",
    "False\tTrue\n",
    "\n"
   ]
  },
  {
   "cell_type": "code",
   "execution_count": null,
   "id": "d66cf47b",
   "metadata": {},
   "outputs": [],
   "source": [
    "4. What are the values of the following expressions?\n",
    "(5 > 4) and (3 == 5)\n",
    "not (5 > 4)\n",
    "(5 > 4) or (3 == 5)\n",
    "not ((5 > 4) or (3 == 5))\n",
    "(True and True) and (True == False)\n",
    "(not False) or (not True)\n"
   ]
  },
  {
   "cell_type": "code",
   "execution_count": 7,
   "id": "76cb9f81",
   "metadata": {},
   "outputs": [
    {
     "data": {
      "text/plain": [
       "True"
      ]
     },
     "execution_count": 7,
     "metadata": {},
     "output_type": "execute_result"
    }
   ],
   "source": [
    "(5 > 4) and (3 == 5)\n",
    "not (5 > 4)\n",
    "(5 > 4) or (3 == 5)\n",
    "not ((5 > 4) or (3 == 5))\n",
    "(True and True) and (True == False)\n",
    "(not False) or (not True)"
   ]
  },
  {
   "cell_type": "code",
   "execution_count": null,
   "id": "20c0ba0c",
   "metadata": {},
   "outputs": [],
   "source": [
    "5. What are the six comparison operators?"
   ]
  },
  {
   "cell_type": "code",
   "execution_count": null,
   "id": "c8dd81fe",
   "metadata": {},
   "outputs": [],
   "source": [
    "Python has six comparison operators, which are as follows:\n",
    "\n",
    "Less than ( < )\n",
    "Less than or equal to (<=)\n",
    "Greater than (>)\n",
    "Greater than or equal to (>=)\n",
    "Equal to ( == )\n",
    "Not equal to ( != )\n",
    "\n",
    "These comparison operators compare two values and return a boolean value, either True or False."
   ]
  },
  {
   "cell_type": "code",
   "execution_count": null,
   "id": "ea888e5b",
   "metadata": {},
   "outputs": [],
   "source": [
    "6. How do you tell the difference between the equal to and assignment operators?Describe a condition and when you would use\n",
    "one."
   ]
  },
  {
   "cell_type": "code",
   "execution_count": null,
   "id": "1129364a",
   "metadata": {},
   "outputs": [],
   "source": [
    "The “=” is an assignment operator which is used to assign the value (given in the right side of the assignment sign) in \n",
    "variable i.e. given in the left side of the assignment sign. \n",
    "\n",
    "The '==' operator checks whether the two given operands are equal or not. If so, it returns true.\n",
    "\n",
    "For Examaple \n",
    " a=\"Amit\" will assign the value \"Amit\" to the variable a\n",
    " \n",
    "a=10\n",
    "b=25\n",
    "\n",
    "if a==b:\n",
    "    print(\"True\")\n",
    "    \n",
    "Here \"==\" is used to compare the values assigned in a and b and based on that it will return True or False."
   ]
  },
  {
   "cell_type": "code",
   "execution_count": null,
   "id": "7e919cd9",
   "metadata": {},
   "outputs": [],
   "source": [
    "7. Identify the three blocks in this code:\n",
    "spam = 0\n",
    "if spam == 10:\n",
    "print('eggs')\n",
    "if spam > 5:\n",
    "print('bacon')\n",
    "else:\n",
    "print('ham')\n",
    "print('spam')\n",
    "print('spam')\n"
   ]
  },
  {
   "cell_type": "code",
   "execution_count": 9,
   "id": "ff857aaa",
   "metadata": {},
   "outputs": [
    {
     "name": "stdout",
     "output_type": "stream",
     "text": [
      "ham\n",
      "spam\n",
      "spam\n"
     ]
    }
   ],
   "source": [
    "spam = 0\n",
    "if spam == 10:\n",
    "    print('eggs')\n",
    "if spam > 5:\n",
    "    print('bacon')\n",
    "else:\n",
    "    print('ham')\n",
    "print('spam')\n",
    "print('spam')"
   ]
  },
  {
   "cell_type": "code",
   "execution_count": null,
   "id": "098012d8",
   "metadata": {},
   "outputs": [],
   "source": [
    "8. Write code that prints Hello if 1 is stored in spam, prints Howdy if 2 is stored in spam, and prints Greetings! if \n",
    "anything else is stored in spam."
   ]
  },
  {
   "cell_type": "code",
   "execution_count": 22,
   "id": "90ddfb93",
   "metadata": {},
   "outputs": [
    {
     "name": "stdout",
     "output_type": "stream",
     "text": [
      "k\n",
      "Greetings!\n"
     ]
    }
   ],
   "source": [
    "spam = input()\n",
    "if (spam) == str(1):\n",
    "    print('Hello')\n",
    "elif (spam)==str(2):\n",
    "    print('Howdy')\n",
    "else:\n",
    "    print('Greetings!')"
   ]
  },
  {
   "cell_type": "code",
   "execution_count": null,
   "id": "92d4f4db",
   "metadata": {},
   "outputs": [],
   "source": [
    "9.If your programme is stuck in an endless loop, what keys you’ll press?"
   ]
  },
  {
   "cell_type": "code",
   "execution_count": null,
   "id": "71b45636",
   "metadata": {},
   "outputs": [],
   "source": [
    "We can use \"interrupt the kernel\" key in the jupyer notebook to exit it safely."
   ]
  },
  {
   "cell_type": "code",
   "execution_count": null,
   "id": "6add43f2",
   "metadata": {},
   "outputs": [],
   "source": [
    "10. How can you tell the difference between break and continue?"
   ]
  },
  {
   "cell_type": "code",
   "execution_count": null,
   "id": "95058f84",
   "metadata": {},
   "outputs": [],
   "source": [
    "Break Statement\n",
    "\n",
    "a. The Break statement is used to exit from the loop constructs.\n",
    "b.  The break statement is usually used with the switch statement, and it can also use it within the while loop, do-while \n",
    "    loop, or the for-loop.\n",
    "\n",
    "Continue Statement\n",
    "\n",
    "a. When the continue statement is encountered then the control automatically passed from the beginning of the loop statement.\n",
    "b. The continue statement is not used with the switch statement, but it can be used within the while loop, do-while loop, or \n",
    "    for-loop."
   ]
  },
  {
   "cell_type": "code",
   "execution_count": null,
   "id": "b67c62aa",
   "metadata": {},
   "outputs": [],
   "source": [
    "11. In a for loop, what is the difference between range(10), range(0, 10), and range(0, 10, 1)?"
   ]
  },
  {
   "cell_type": "code",
   "execution_count": null,
   "id": "0e2321c4",
   "metadata": {},
   "outputs": [],
   "source": [
    "range(10)\n",
    "\n",
    "It will generate a number of sequence starting from 0 to 10 excluding 10.So for loop will exceute 10 times starting from 0 \n",
    "to 9.\n",
    "\n",
    "range(0, 10)\n",
    "\n",
    "Here 0 indicates starting point, 10 represents ending point exluding 10 with a default step size 1.It will also generate a \n",
    "sequential number from 0 to 9.Here also the for loop wil exceute 10 times starting from 0 to 9\n",
    "\n",
    "range(0, 10, 1)\n",
    "\n",
    "Here 0 indicates starting point, 10 represents ending point exluding 10 with a step size of 1.It will also generate a \n",
    "sequential number from 0 to 9.Here also the for loop wil exceute 10 times starting from 0 to 9"
   ]
  },
  {
   "cell_type": "code",
   "execution_count": null,
   "id": "e22b739b",
   "metadata": {},
   "outputs": [],
   "source": [
    "12. Write a short program that prints the numbers 1 to 10 using a for loop. Then write an equivalent program that prints the\n",
    "numbers 1 to 10 using a while loop."
   ]
  },
  {
   "cell_type": "code",
   "execution_count": 32,
   "id": "b140ff48",
   "metadata": {},
   "outputs": [
    {
     "name": "stdout",
     "output_type": "stream",
     "text": [
      "1\n",
      "2\n",
      "3\n",
      "4\n",
      "5\n",
      "6\n",
      "7\n",
      "8\n",
      "9\n",
      "10\n"
     ]
    }
   ],
   "source": [
    "a=0\n",
    "while (a in range(10)) :\n",
    "    print(a+1)\n",
    "    a+=1"
   ]
  },
  {
   "cell_type": "code",
   "execution_count": 26,
   "id": "8566d2cb",
   "metadata": {},
   "outputs": [
    {
     "name": "stdout",
     "output_type": "stream",
     "text": [
      "1\n",
      "2\n",
      "3\n",
      "4\n",
      "5\n",
      "6\n",
      "7\n",
      "8\n",
      "9\n",
      "10\n"
     ]
    }
   ],
   "source": [
    "for i in range(10) :\n",
    "    print(i+1)"
   ]
  },
  {
   "cell_type": "code",
   "execution_count": null,
   "id": "e524698e",
   "metadata": {},
   "outputs": [],
   "source": [
    "13. If you had a function named bacon() inside a module named spam, how would you call it after importing spam?"
   ]
  },
  {
   "cell_type": "code",
   "execution_count": null,
   "id": "34ccdcd7",
   "metadata": {},
   "outputs": [],
   "source": [
    "import spam\n",
    "\n",
    "b=spam.bacon()"
   ]
  }
 ],
 "metadata": {
  "kernelspec": {
   "display_name": "Python 3 (ipykernel)",
   "language": "python",
   "name": "python3"
  },
  "language_info": {
   "codemirror_mode": {
    "name": "ipython",
    "version": 3
   },
   "file_extension": ".py",
   "mimetype": "text/x-python",
   "name": "python",
   "nbconvert_exporter": "python",
   "pygments_lexer": "ipython3",
   "version": "3.9.7"
  }
 },
 "nbformat": 4,
 "nbformat_minor": 5
}
